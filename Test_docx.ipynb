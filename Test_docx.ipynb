{
 "cells": [
  {
   "cell_type": "code",
   "execution_count": 2,
   "id": "bf67c636",
   "metadata": {},
   "outputs": [],
   "source": [
    "from docx import Document\n",
    "\n",
    "documento = Document(\"Contract2021.docx\")\n",
    "\n",
    "for paragrafo in documento.paragraphs:\n",
    "    paragrafo.text = paragrafo.text.replace(\"XXXX\", \"Eda\")\n",
    "\n",
    "documento.save(\"Contrato_atual 2022.docx\")"
   ]
  },
  {
   "cell_type": "code",
   "execution_count": 3,
   "id": "a17586bb",
   "metadata": {},
   "outputs": [],
   "source": [
    "from docx import Document\n",
    "from datetime import datetime \n",
    "import pandas as pd\n",
    "\n",
    "tabela = pd.read_excel(\"Informações.xlsx\")\n",
    "\n",
    "for linha in tabela.index:\n",
    "    documento = Document(\"Contract2021.docx\")\n",
    "\n",
    "    nome = tabela.loc[linha, \"Nome\"]\n",
    "    item1 = tabela.loc[linha, \"Item1\"]\n",
    "    item2 = tabela.loc[linha, \"Item2\"]\n",
    "    item3 = tabela.loc[linha, \"Item3\"]\n",
    "\n",
    "    referencias = {\n",
    "        \"XXXX\": nome,\n",
    "        \"YYYY\": item1,\n",
    "        \"ZZZZ\": item2,\n",
    "        \"WWWW\": item3,\n",
    "        \"DD\": str(datetime.now().day),\n",
    "        \"MM\": str(datetime.now().month),\n",
    "        \"AAAA\": str(datetime.now().year), \n",
    "    }\n",
    "\n",
    "    for paragrafo in documento.paragraphs:\n",
    "        for codigo in referencias:\n",
    "            valor = referencias[codigo]\n",
    "            paragrafo.text = paragrafo.text.replace(codigo, valor)\n",
    "\n",
    "    documento.save(\"Contrato válido até 2023 - {}.docx\".format(nome))"
   ]
  },
  {
   "cell_type": "code",
   "execution_count": null,
   "id": "ea23c673",
   "metadata": {},
   "outputs": [],
   "source": []
  }
 ],
 "metadata": {
  "kernelspec": {
   "display_name": "Python 3.10.6 64-bit",
   "language": "python",
   "name": "python3"
  },
  "language_info": {
   "codemirror_mode": {
    "name": "ipython",
    "version": 3
   },
   "file_extension": ".py",
   "mimetype": "text/x-python",
   "name": "python",
   "nbconvert_exporter": "python",
   "pygments_lexer": "ipython3",
   "version": "3.10.6"
  },
  "vscode": {
   "interpreter": {
    "hash": "1eb43a929f44238686194903de167604edebf722adf9b4ee3f15c91488026f27"
   }
  }
 },
 "nbformat": 4,
 "nbformat_minor": 5
}
